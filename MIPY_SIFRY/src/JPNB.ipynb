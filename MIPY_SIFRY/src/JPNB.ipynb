{
 "cells": [
  {
   "cell_type": "markdown",
   "id": "518f0756-32e4-4df3-a24b-ad2879f81294",
   "metadata": {},
   "source": [
    "<h1>Vývoj Python knihovny pro šifrování, dešifrování a kryptoanalýzu \n",
    "substituční šifry</h1>"
   ]
  },
  {
   "cell_type": "markdown",
   "id": "a849c95f-1ffb-461f-b670-4de0f7858d85",
   "metadata": {},
   "source": [
    "<h2>Obsah Jupyter Notebook</h2>"
   ]
  },
  {
   "cell_type": "markdown",
   "id": "25d9b4cb-2c8f-4d22-92e1-667c68eaedac",
   "metadata": {},
   "source": [
    "<ol>\n",
    "    <li>Demonstrace šifrovací/dešifrovací funkčnosti</li>\n",
    "    <li>Demonstrace teoretické bigramové matice z vybraného textu</li>\n",
    "    <li>Demonstrace prolomení šifry (kryptoanalýza)</li>\n",
    "</ol>"
   ]
  },
  {
   "cell_type": "markdown",
   "id": "fe1635c1-b2ac-4cfa-ba39-7246480147cb",
   "metadata": {},
   "source": [
    "<h3>1. Demonstrace šifrovací/dešifrovací funkčnosti</h3>"
   ]
  },
  {
   "cell_type": "markdown",
   "id": "f7cab223-90b1-470e-bd11-c213ef6b2db3",
   "metadata": {},
   "source": [
    "<p>Import potřebných funkcí</p>"
   ]
  },
  {
   "cell_type": "code",
   "execution_count": null,
   "id": "6f3337c6-022f-497b-a9d5-2b876ecff518",
   "metadata": {},
   "outputs": [],
   "source": [
    "from cipher.cipher_util import generate_random_key, sanitize_text, text_correctness\n",
    "from cipher.substitute_cipher import decrypt, encrypt"
   ]
  },
  {
   "cell_type": "markdown",
   "id": "16ba67d2-40ec-406d-9aa4-8dbc4fa25e15",
   "metadata": {},
   "source": [
    "<p>Vytvoření potřebných proměnných</p>"
   ]
  },
  {
   "cell_type": "code",
   "execution_count": null,
   "id": "338e0a40-4866-499e-ba9e-f711e5fe735a",
   "metadata": {},
   "outputs": [],
   "source": [
    "plain_text = sanitize_text(\"The quick brown fox jumps over the lazy dog\")\n",
    "key = generate_random_key()\n",
    "key_str = \"\".join(key)"
   ]
  },
  {
   "cell_type": "markdown",
   "id": "d083e5fb-71f1-4b16-a7c8-95cfe735373f",
   "metadata": {},
   "source": [
    "<h4>Demo zašifrování</h4>"
   ]
  },
  {
   "cell_type": "code",
   "execution_count": null,
   "id": "03619a90-814e-4db4-8572-85f9967b7b53",
   "metadata": {},
   "outputs": [
    {
     "name": "stdout",
     "output_type": "stream",
     "text": [
      "Original text : THE_QUICK_BROWN_FOX_JUMPS_OVER_THE_LAZY_DOG\n",
      "Cypher key = SULWHKVAGBQIJRCEFYOT_MPNDZX\n",
      "Encrypted text : TAHXF_GLQXUYCPRXKCNXB_JEOXCMHYXTAHXISZDXWCV\n"
     ]
    }
   ],
   "source": [
    "print(f\"Original text : {plain_text}\")\n",
    "print(f\"Cypher key = {key_str}\")\n",
    "\n",
    "encrypted = encrypt(key, plain_text)\n",
    "\n",
    "print(f\"Encrypted text : {encrypted}\")"
   ]
  },
  {
   "cell_type": "markdown",
   "id": "069494fc-2abb-438c-b315-00da76f3a638",
   "metadata": {},
   "source": [
    "<h4>Demo dešifrování</h4>"
   ]
  },
  {
   "cell_type": "code",
   "execution_count": null,
   "id": "54487003-91e0-44fd-a535-4efbacb61da8",
   "metadata": {},
   "outputs": [
    {
     "name": "stdout",
     "output_type": "stream",
     "text": [
      "Decrypted : THE_QUICK_BROWN_FOX_JUMPS_OVER_THE_LAZY_DOG\n",
      "Score : 1.0\n"
     ]
    }
   ],
   "source": [
    "decrypted = decrypt(key, encrypted)\n",
    "\n",
    "print(f\"Decrypted : {decrypted}\")\n",
    "\n",
    "score = text_correctness(plain_text, decrypted)\n",
    "\n",
    "print(f\"Score : {score}\")"
   ]
  },
  {
   "cell_type": "markdown",
   "id": "87f0bda0-a0c9-4aa0-8726-665416a3b3de",
   "metadata": {},
   "source": [
    "<h3>2. Demonstrace teoretické bigramové matice z vybraného textu</h3>"
   ]
  },
  {
   "cell_type": "markdown",
   "id": "074722b6-d993-4598-a86f-ec7992b5f254",
   "metadata": {},
   "source": [
    "<p>Import potřebných funkcí</p>"
   ]
  },
  {
   "cell_type": "code",
   "execution_count": null,
   "id": "7c1da54c-dfad-45b5-aa03-da1edafab22f",
   "metadata": {},
   "outputs": [],
   "source": [
    "from cipher.bygram_matrix import create_bygram_matrix, get_bygrams"
   ]
  },
  {
   "cell_type": "markdown",
   "id": "c1980c95-f98b-4e90-ac58-7ca4564b829a",
   "metadata": {},
   "source": [
    "<p>Otevření textového souboru a zpracování pomocí funkce \"create_bygram_matrix\"</p>"
   ]
  },
  {
   "cell_type": "code",
   "execution_count": null,
   "id": "ef7b4f7b-79a2-4010-93d8-f8cb75deba96",
   "metadata": {},
   "outputs": [],
   "source": [
    "krakatit_file = open(\"../Krakatit.txt\")\n",
    "krakatit_matrix = create_bygram_matrix(get_bygrams(krakatit_file.read()))\n",
    "krakatit_file.close()"
   ]
  },
  {
   "cell_type": "markdown",
   "id": "9769988e-769b-4b0e-8de0-2fb6c6f507ad",
   "metadata": {},
   "source": [
    "<p>Logování matice</p>"
   ]
  },
  {
   "cell_type": "code",
   "execution_count": null,
   "id": "aac52ca2-aa3b-47bd-b61e-a62afbac893f",
   "metadata": {
    "scrolled": true
   },
   "outputs": [
    {
     "name": "stdout",
     "output_type": "stream",
     "text": [
      "{'AA': 19, 'AB': 669, 'AC': 1036, 'AD': 1490, 'AE': 2, 'AF': 90, 'AG': 49, 'AH': 615, 'AI': 89, 'AJ': 668, 'AK': 2557, 'AL': 4048, 'AM': 1668, 'AN': 2192, 'AO': 10, 'AP': 663, 'AQ': 1, 'AR': 1529, 'AS': 2010, 'AT': 2437, 'AU': 204, 'AV': 1671, 'AW': 1, 'AX': 2, 'AY': 1, 'AZ': 1219, 'A_': 11880, 'BA': 444, 'BB': 1, 'BC': 14, 'BD': 8, 'BE': 838, 'BF': 1, 'BG': 1, 'BH': 1, 'BI': 378, 'BJ': 83, 'BK': 27, 'BL': 283, 'BM': 3, 'BN': 119, 'BO': 867, 'BP': 1, 'BQ': 1, 'BR': 538, 'BS': 78, 'BT': 9, 'BU': 463, 'BV': 3, 'BW': 1, 'BX': 1, 'BY': 1620, 'BZ': 14, 'B_': 36, 'CA': 624, 'CB': 1, 'CC': 24, 'CD': 1, 'CE': 2796, 'CF': 1, 'CG': 1, 'CH': 3262, 'CI': 2199, 'CJ': 1, 'CK': 701, 'CL': 249, 'CM': 14, 'CN': 402, 'CO': 989, 'CP': 13, 'CQ': 1, 'CR': 6, 'CS': 3, 'CT': 195, 'CU': 69, 'CV': 15, 'CW': 1, 'CX': 1, 'CY': 5, 'CZ': 1, 'C_': 746, 'DA': 1415, 'DB': 60, 'DC': 115, 'DD': 36, 'DE': 2222, 'DF': 56, 'DG': 1, 'DH': 44, 'DI': 1104, 'DJ': 19, 'DK': 118, 'DL': 727, 'DM': 53, 'DN': 704, 'DO': 2107, 'DP': 95, 'DQ': 1, 'DR': 595, 'DS': 179, 'DT': 144, 'DU': 448, 'DV': 315, 'DW': 1, 'DX': 1, 'DY': 1047, 'DZ': 16, 'D_': 1228, 'EA': 21, 'EB': 746, 'EC': 1736, 'ED': 2182, 'EE': 5, 'EF': 17, 'EG': 78, 'EH': 968, 'EI': 24, 'EJ': 1280, 'EK': 1653, 'EL': 3125, 'EM': 2493, 'EN': 3008, 'EO': 91, 'EP': 529, 'EQ': 1, 'ER': 1059, 'ES': 1853, 'ET': 1418, 'EU': 65, 'EV': 772, 'EW': 2, 'EX': 112, 'EY': 1, 'EZ': 1402, 'E_': 14954, 'FA': 86, 'FB': 1, 'FC': 1, 'FD': 1, 'FE': 28, 'FF': 56, 'FG': 1, 'FH': 1, 'FI': 58, 'FJ': 1, 'FK': 1, 'FL': 14, 'FM': 1, 'FN': 6, 'FO': 59, 'FP': 1, 'FQ': 1, 'FR': 38, 'FS': 1, 'FT': 54, 'FU': 21, 'FV': 1, 'FW': 1, 'FX': 1, 'FY': 11, 'FZ': 1, 'F_': 80, 'GA': 53, 'GB': 1, 'GC': 1, 'GD': 1, 'GE': 59, 'GF': 1, 'GG': 1, 'GH': 5, 'GI': 48, 'GJ': 1, 'GK': 1, 'GL': 13, 'GM': 5, 'GN': 18, 'GO': 36, 'GP': 1, 'GQ': 1, 'GR': 77, 'GS': 1, 'GT': 1, 'GU': 19, 'GV': 1, 'GW': 1, 'GX': 1, 'GY': 3, 'GZ': 1, 'G_': 32, 'HA': 930, 'HB': 5, 'HC': 161, 'HD': 20, 'HE': 273, 'HF': 1, 'HG': 1, 'HH': 1, 'HI': 33, 'HJ': 1, 'HK': 24, 'HL': 1687, 'HM': 138, 'HN': 442, 'HO': 2522, 'HP': 1, 'HQ': 1, 'HR': 630, 'HS': 6, 'HT': 250, 'HU': 400, 'HV': 235, 'HW': 1, 'HX': 1, 'HY': 324, 'HZ': 2, 'H_': 1025, 'IA': 55, 'IB': 135, 'IC': 2052, 'ID': 738, 'IE': 158, 'IF': 13, 'IG': 33, 'IH': 239, 'II': 84, 'IJ': 183, 'IK': 864, 'IL': 2558, 'IM': 1383, 'IN': 1602, 'IO': 42, 'IP': 122, 'IQ': 1, 'IR': 436, 'IS': 1315, 'IT': 1889, 'IU': 22, 'IV': 947, 'IW': 4, 'IX': 6, 'IY': 1, 'IZ': 524, 'I_': 7845, 'JA': 1668, 'JB': 11, 'JC': 16, 'JD': 261, 'JE': 3105, 'JF': 1, 'JG': 1, 'JH': 9, 'JI': 1569, 'JJ': 5, 'JK': 13, 'JL': 20, 'JM': 143, 'JN': 100, 'JO': 40, 'JP': 10, 'JQ': 1, 'JR': 6, 'JS': 846, 'JT': 80, 'JU': 45, 'JV': 36, 'JW': 1, 'JX': 1, 'JY': 1, 'JZ': 3, 'J_': 388, 'KA': 2314, 'KB': 1, 'KC': 28, 'KD': 799, 'KE': 766, 'KF': 1, 'KG': 1, 'KH': 19, 'KI': 31, 'KJ': 1, 'KK': 19, 'KL': 988, 'KM': 27, 'KN': 359, 'KO': 3731, 'KP': 5, 'KQ': 1, 'KR': 1237, 'KS': 47, 'KT': 395, 'KU': 1017, 'KV': 80, 'KW': 1, 'KX': 1, 'KY': 1049, 'KZ': 29, 'K_': 2424, 'LA': 3851, 'LB': 20, 'LC': 103, 'LD': 86, 'LE': 3377, 'LF': 4, 'LG': 2, 'LH': 69, 'LI': 2171, 'LJ': 1, 'LK': 217, 'LL': 25, 'LM': 65, 'LN': 483, 'LO': 2089, 'LP': 5, 'LQ': 1, 'LR': 1, 'LS': 77, 'LT': 63, 'LU': 624, 'LV': 19, 'LW': 8, 'LX': 1, 'LY': 754, 'LZ': 129, 'L_': 5823, 'MA': 1471, 'MB': 17, 'MC': 46, 'MD': 8, 'ME': 1368, 'MF': 1, 'MG': 1, 'MH': 31, 'MI': 1556, 'MJ': 2, 'MK': 107, 'ML': 281, 'MM': 2, 'MN': 545, 'MO': 740, 'MP': 37, 'MQ': 1, 'MR': 219, 'MS': 86, 'MT': 27, 'MU': 1248, 'MV': 6, 'MW': 1, 'MX': 1, 'MY': 369, 'MZ': 62, 'M_': 3879, 'NA': 4449, 'NB': 12, 'NC': 719, 'ND': 85, 'NE': 7068, 'NF': 8, 'NG': 42, 'NH': 8, 'NI': 2970, 'NJ': 3, 'NK': 244, 'NL': 5, 'NM': 1, 'NN': 75, 'NO': 1884, 'NP': 1, 'NQ': 1, 'NR': 1, 'NS': 152, 'NT': 195, 'NU': 754, 'NV': 6, 'NW': 1, 'NX': 1, 'NY': 1363, 'NZ': 119, 'N_': 1934, 'OA': 6, 'OB': 897, 'OC': 1114, 'OD': 1555, 'OE': 8, 'OF': 43, 'OG': 28, 'OH': 955, 'OI': 18, 'OJ': 503, 'OK': 2022, 'OL': 1129, 'OM': 1113, 'ON': 1315, 'OO': 25, 'OP': 1962, 'OQ': 1, 'OR': 1174, 'OS': 1520, 'OT': 897, 'OU': 2835, 'OV': 2483, 'OW': 4, 'OX': 9, 'OY': 2, 'OZ': 1415, 'O_': 7793, 'PA': 1958, 'PB': 1, 'PC': 14, 'PD': 110, 'PE': 702, 'PF': 3, 'PG': 1, 'PH': 3, 'PI': 635, 'PJ': 13, 'PK': 18, 'PL': 449, 'PM': 1, 'PN': 73, 'PO': 3432, 'PP': 1, 'PQ': 1, 'PR': 4538, 'PS': 134, 'PT': 206, 'PU': 316, 'PV': 1, 'PW': 1, 'PX': 1, 'PY': 89, 'PZ': 1, 'P_': 1070, 'QA': 1, 'QB': 1, 'QC': 1, 'QD': 1, 'QE': 1, 'QF': 1, 'QG': 1, 'QH': 1, 'QI': 1, 'QJ': 1, 'QK': 1, 'QL': 1, 'QM': 1, 'QN': 1, 'QO': 1, 'QP': 1, 'QQ': 1, 'QR': 1, 'QS': 1, 'QT': 1, 'QU': 4, 'QV': 1, 'QW': 1, 'QX': 1, 'QY': 1, 'QZ': 1, 'Q_': 1, 'RA': 3564, 'RB': 17, 'RC': 224, 'RD': 164, 'RE': 2460, 'RF': 2, 'RG': 28, 'RH': 164, 'RI': 2230, 'RJ': 1, 'RK': 274, 'RL': 66, 'RM': 67, 'RN': 512, 'RO': 3860, 'RP': 55, 'RQ': 1, 'RR': 43, 'RS': 536, 'RT': 268, 'RU': 1116, 'RV': 254, 'RW': 7, 'RX': 1, 'RY': 639, 'RZ': 159, 'R_': 639, 'SA': 573, 'SB': 16, 'SC': 108, 'SD': 6, 'SE': 5008, 'SF': 9, 'SG': 1, 'SH': 40, 'SI': 2115, 'SJ': 6, 'SK': 1198, 'SL': 1140, 'SM': 432, 'SN': 585, 'SO': 838, 'SP': 483, 'SQ': 1, 'SR': 93, 'SS': 63, 'ST': 4538, 'SU': 284, 'SV': 664, 'SW': 1, 'SX': 1, 'SY': 145, 'SZ': 1, 'S_': 1744, 'TA': 2909, 'TB': 6, 'TC': 28, 'TD': 2, 'TE': 4115, 'TF': 1, 'TG': 1, 'TH': 12, 'TI': 2525, 'TJ': 5, 'TK': 299, 'TL': 317, 'TM': 79, 'TN': 487, 'TO': 3385, 'TP': 2, 'TQ': 1, 'TR': 1608, 'TS': 102, 'TT': 60, 'TU': 1074, 'TV': 366, 'TW': 1, 'TX': 1, 'TY': 677, 'TZ': 3, 'T_': 2681, 'UA': 10, 'UB': 301, 'UC': 813, 'UD': 832, 'UE': 10, 'UF': 71, 'UG': 5, 'UH': 321, 'UI': 3, 'UJ': 391, 'UK': 580, 'UL': 558, 'UM': 352, 'UN': 211, 'UO': 1, 'UP': 347, 'UQ': 1, 'UR': 228, 'US': 1174, 'UT': 802, 'UU': 5, 'UV': 290, 'UW': 10, 'UX': 1, 'UY': 1, 'UZ': 823, 'U_': 5477, 'VA': 2588, 'VB': 2, 'VC': 85, 'VD': 53, 'VE': 2849, 'VF': 1, 'VG': 1, 'VH': 3, 'VI': 2068, 'VJ': 2, 'VK': 94, 'VL': 324, 'VM': 3, 'VN': 486, 'VO': 924, 'VP': 18, 'VQ': 1, 'VR': 509, 'VS': 563, 'VT': 43, 'VU': 401, 'VV': 4, 'VW': 1, 'VX': 1, 'VY': 1742, 'VZ': 400, 'V_': 1195, 'WA': 18, 'WB': 1, 'WC': 1, 'WD': 1, 'WE': 4, 'WF': 1, 'WG': 1, 'WH': 10, 'WI': 28, 'WJ': 1, 'WK': 2, 'WL': 1, 'WM': 1, 'WN': 2, 'WO': 1, 'WP': 1, 'WQ': 1, 'WR': 1, 'WS': 1, 'WT': 1, 'WU': 2, 'WV': 1, 'WW': 1, 'WX': 1, 'WY': 1, 'WZ': 1, 'W_': 2, 'XA': 2, 'XB': 1, 'XC': 2, 'XD': 1, 'XE': 2, 'XF': 1, 'XG': 1, 'XH': 1, 'XI': 22, 'XJ': 1, 'XK': 1, 'XL': 10, 'XM': 1, 'XN': 1, 'XO': 8, 'XP': 36, 'XQ': 1, 'XR': 1, 'XS': 1, 'XT': 64, 'XU': 1, 'XV': 12, 'XW': 1, 'XX': 30, 'XY': 1, 'XZ': 1, 'X_': 11, 'YA': 1, 'YB': 336, 'YC': 756, 'YD': 204, 'YE': 4, 'YF': 1, 'YG': 3, 'YH': 101, 'YI': 1, 'YJ': 33, 'YK': 179, 'YL': 784, 'YM': 699, 'YN': 203, 'YO': 3, 'YP': 127, 'YQ': 1, 'YR': 173, 'YS': 779, 'YT': 304, 'YU': 4, 'YV': 125, 'YW': 1, 'YX': 1, 'YY': 1, 'YZ': 287, 'Y_': 4790, 'ZA': 2399, 'ZB': 149, 'ZC': 87, 'ZD': 605, 'ZE': 2225, 'ZF': 1, 'ZG': 1, 'ZH': 114, 'ZI': 969, 'ZJ': 34, 'ZK': 351, 'ZL': 264, 'ZM': 170, 'ZN': 904, 'ZO': 312, 'ZP': 268, 'ZQ': 1, 'ZR': 188, 'ZS': 79, 'ZT': 216, 'ZU': 312, 'ZV': 326, 'ZW': 1, 'ZX': 1, 'ZY': 51, 'ZZ': 18, 'Z_': 1622, '_A': 5391, '_B': 2424, '_C': 3033, '_D': 3602, '_E': 142, '_F': 136, '_G': 98, '_H': 2115, '_I': 322, '_J': 5142, '_K': 3804, '_L': 1001, '_M': 3198, '_N': 7263, '_O': 2830, '_P': 8987, '_Q': 2, '_R': 2423, '_S': 8488, '_T': 6188, '_U': 1864, '_V': 5727, '_W': 34, '_X': 40, '_Y': 5, '_Z': 5039, '__': 20773}\n"
     ]
    }
   ],
   "source": [
    "print(krakatit_matrix)"
   ]
  },
  {
   "cell_type": "markdown",
   "id": "ef827935-d7d0-4c3c-baf8-bc608170af02",
   "metadata": {},
   "source": [
    "<h3>3. Demonstrace prolomení šifry (kryptoanalýza)</h3>"
   ]
  },
  {
   "cell_type": "markdown",
   "id": "14648cd8-11c9-4531-982e-322f01bda998",
   "metadata": {},
   "source": [
    "<p>Import potřebných funkcí</p>"
   ]
  },
  {
   "cell_type": "code",
   "execution_count": null,
   "id": "19361746-94f5-4860-b013-54112a186514",
   "metadata": {},
   "outputs": [],
   "source": [
    "from cipher.bygram_matrix import create_bygram_matrix, get_bygrams, make_matrix_relative, plausability\n",
    "from cipher.cipher_util import text_correctness\n",
    "from cipher.substitute_cipher import break_encryption, decrypt\n"
   ]
  },
  {
   "cell_type": "markdown",
   "id": "20810099-5102-4be2-8bc7-0c3a408d5ffb",
   "metadata": {},
   "source": [
    "<p>Otevření textového souboru a zpracování pomocí funkce \"make_matrix_relative\"</p>"
   ]
  },
  {
   "cell_type": "code",
   "execution_count": null,
   "id": "48ddc303-f55c-40ec-a682-f5fcbccb3b3f",
   "metadata": {},
   "outputs": [],
   "source": [
    "krakatit_file = open(\"../Krakatit.txt\")\n",
    "krakatit_matrix = make_matrix_relative(create_bygram_matrix(get_bygrams(krakatit_file.read())))\n",
    "krakatit_file.close()"
   ]
  },
  {
   "cell_type": "markdown",
   "id": "3fd59fd2-22b5-4412-9392-14d9ebe5e7b4",
   "metadata": {},
   "source": [
    "<p>Definice plain textu pro referenci</p>"
   ]
  },
  {
   "cell_type": "code",
   "execution_count": null,
   "id": "197ad120-3bdb-487e-b004-6e1a0a09b64a",
   "metadata": {},
   "outputs": [],
   "source": [
    "plain_text = \"_VOZEM_DO_NEHO_A_ZAS_MNE_BEZI_DO_CESTY__ZACHVELA_SE_TAK_KUDY_VPRAVO_NEBO_VLEVO_TEDY_JE_KONEC_PTAL_SE_TISE_POKYVLA_HLAVOU_TEDY_JE_KONEC_OTEVREL_DVIRKA_VYSKOCIL_Z_VOZU_A_POSTAVIL_SE_PRED_KOLA_JED_REKL_CHRAPTIVE_POJEDES_PRESE_MNE_UJELA_S_VOZEM_DVA_KROKY_ZPET_POJD_MUSIME_DAL_DOVEZU_TE_ASPON_BLIZ_K_HRANICIM_KAM_CHCES_ZPATKY_SKRIPEL_ZUBY_ZPATKY_S_TEBOU_SE_MNOU_NENI_ANI_DOPREDU_ANI_ZPATKY_COPAK_MI_NEROZUMIS_MUSIM_TO_UDELAT_ABYS_VIDEL_ABY_BYLO_JISTO_ZE_JSEM_TE_MELA_RADA_MYSLIS_ZE_BYCH_MOHLA_JESTE_JEDNOU_SLYSET_COS_MI_REKL_ZPATKY_NEMUZES_BUD_BYS_MUSEL_VYDAT_TO_CO_NECHCES_A_NESMIS_NEBO_BY_TE_ODVEZLI_A_JA__SPUSTILA_RUCE_DO_KLINA_VIDIS_I_NA_TO_JSEM_MYSLELA_ZE_BYCH_SLA_S_TEBOU_DOPREDU_DOVEDLA_BYCH_TO_DOVEDLA_BYCH_TO_JISTE_ALE__TY_JSI_TAM_NEKDE_ZASNOUBEN_JDI_K_NI_HLED_NIKDY_ME_NENAPADLO_PTAT_SE_TE_NA_TO_KDYZ_JE_CLOVEK_PRINCEZNA_MYSLI_SI_ZE_JE_NA_SVETE_SAM_MAS_JI_RAD_POHLEDL_NA_NI_UTRYZNENYMA_OCIMA_PRECE_JEN_NEDOVEDL_ZAPRIT__TAK_VIDIS_VYDECHLA_TY_NEUMIS_ANI_LHAT_TY_MILY_ALE_POCHOP_KDYZ_JSEM_SI_TO_PAK\""
   ]
  },
  {
   "cell_type": "markdown",
   "id": "a2184237-aaee-4f2e-9ea0-5c63044e498b",
   "metadata": {},
   "source": [
    "<p>Definice šifrovaného textu k dešifrování</p>"
   ]
  },
  {
   "cell_type": "code",
   "execution_count": null,
   "id": "7fbe83eb-d2f0-4ec6-9d10-3c33db9ad0b0",
   "metadata": {},
   "outputs": [],
   "source": [
    "text = \"ABM_DEAOMARDHMAVA_VNAERDALD_UAOMAZDNYPAA_VZHBDSVANDAYVWAWIOPABCKVBMARDLMABSDBMAYDOPAXDAWMRDZACYVSANDAYUNDACMWPBSVAHSVBMIAYDOPAXDAWMRDZAMYDBKDSAOBUKWVABPNWMZUSA_ABM_IAVACMNYVBUSANDACKDOAWMSVAXDOAKDWSAZHKVCYUBDACMXDODNACKDNDAERDAIXDSVANABM_DEAOBVAWKMWPA_CDYACMXOAEINUEDAOVSAOMBD_IAYDAVNCMRALSU_AWAHKVRUZUEAWVEAZHZDNA_CVYWPANWKUCDSA_ILPA_CVYWPANAYDLMIANDAERMIARDRUAVRUAOMCKDOIAVRUA_CVYWPAZMCVWAEUARDKM_IEUNAEINUEAYMAIODSVYAVLPNABUODSAVLPALPSMAXUNYMA_DAXNDEAYDAEDSVAKVOVAEPNSUNA_DALPZHAEMHSVAXDNYDAXDORMIANSPNDYAZMNAEUAKDWSA_CVYWPARDEI_DNALIOALPNAEINDSABPOVYAYMAZMARDZHZDNAVARDNEUNARDLMALPAYDAMOBD_SUAVAXVAANCINYUSVAKIZDAOMAWSURVABUOUNAUARVAYMAXNDEAEPNSDSVA_DALPZHANSVANAYDLMIAOMCKDOIAOMBDOSVALPZHAYMAXUNYDAVSDAAYPAXNUAYVEARDWODA_VNRMILDRAXOUAWARUAHSDOARUWOPAEDARDRVCVOSMACYVYANDAYDARVAYMAWOP_AXDAZSMBDWACKURZD_RVAEPNSUANUA_DAXDARVANBDYDANVEAEVNAXUAKVOACMHSDOSARVARUAIYKP_RDRPEVAMZUEVACKDZDAXDRARDOMBDOSA_VCKUYAAYVWABUOUNABPODZHSVAYPARDIEUNAVRUASHVYAYPAEUSPAVSDACMZHMCAWOP_AXNDEANUAYMACVW\""
   ]
  },
  {
   "cell_type": "markdown",
   "id": "d1165e65-5c48-4b4b-9e2c-ad12e96b4af8",
   "metadata": {},
   "source": [
    "<p>Prolomení šifry a dešifrace</p>"
   ]
  },
  {
   "cell_type": "code",
   "execution_count": null,
   "id": "41fa379d-f611-4e56-b422-e2f88bf9b86f",
   "metadata": {},
   "outputs": [
    {
     "name": "stdout",
     "output_type": "stream",
     "text": [
      "decrypt progress 0, score -15226.561344218231, key ['J', 'O', 'Y', 'R', 'W', 'C', 'F', 'T', 'K', 'N', 'G', 'X', 'P', 'M', 'L', 'H', 'E', 'D', 'Q', 'I', 'S', 'Z', 'B', 'A', 'U', 'V', '_']\n",
      "decrypt progress 1000, score -11025.975052495578, key ['M', 'W', 'K', 'H', 'D', 'J', 'Q', 'L', 'U', 'X', 'Z', 'S', 'O', 'R', 'V', 'B', 'G', 'C', 'N', 'Y', 'I', 'E', 'T', 'F', 'P', '_', 'A']\n",
      "decrypt progress 2000, score -10865.751107831764, key ['V', 'L', 'Z', 'B', 'D', 'J', 'Q', 'H', 'U', 'X', 'W', 'S', 'O', 'R', 'M', '_', 'G', 'C', 'N', 'Y', 'I', 'E', 'T', 'F', 'P', 'K', 'A']\n",
      "decrypt progress 3000, score -10828.243826915224, key ['V', 'L', 'Z', 'O', 'D', 'Q', 'J', 'H', 'U', 'X', 'W', 'S', 'E', 'R', 'M', '_', 'G', 'C', 'N', 'Y', 'I', 'B', 'T', 'F', 'P', 'K', 'A']\n",
      "decrypt progress 4000, score -10828.243826915224, key ['V', 'L', 'Z', 'O', 'D', 'Q', 'J', 'H', 'U', 'X', 'W', 'S', 'E', 'R', 'M', '_', 'G', 'C', 'N', 'Y', 'I', 'B', 'T', 'F', 'P', 'K', 'A']\n",
      "decrypt progress 5000, score -10785.157871025745, key ['V', 'L', 'Z', 'O', 'D', 'Q', 'J', 'H', 'U', 'X', 'W', 'S', 'E', 'R', 'M', 'C', 'G', 'K', 'N', 'Y', 'I', 'B', 'T', 'F', 'P', '_', 'A']\n",
      "decrypt progress 6000, score -10785.157871025745, key ['V', 'L', 'Z', 'O', 'D', 'Q', 'J', 'H', 'U', 'X', 'W', 'S', 'E', 'R', 'M', 'C', 'G', 'K', 'N', 'Y', 'I', 'B', 'T', 'F', 'P', '_', 'A']\n",
      "decrypt progress 7000, score -10785.157871025745, key ['V', 'L', 'Z', 'O', 'D', 'Q', 'J', 'H', 'U', 'X', 'W', 'S', 'E', 'R', 'M', 'C', 'G', 'K', 'N', 'Y', 'I', 'B', 'T', 'F', 'P', '_', 'A']\n",
      "decrypt progress 8000, score -10785.157871025745, key ['V', 'L', 'Z', 'O', 'D', 'Q', 'J', 'H', 'U', 'X', 'W', 'S', 'E', 'R', 'M', 'C', 'G', 'K', 'N', 'Y', 'I', 'B', 'T', 'F', 'P', '_', 'A']\n",
      "decrypt progress 9000, score -10785.157871025745, key ['V', 'L', 'Z', 'O', 'D', 'Q', 'J', 'H', 'U', 'X', 'W', 'S', 'E', 'R', 'M', 'C', 'G', 'K', 'N', 'Y', 'I', 'B', 'T', 'F', 'P', '_', 'A']\n",
      "decrypt progress 10000, score -10785.157871025745, key ['V', 'L', 'Z', 'O', 'D', 'Q', 'J', 'H', 'U', 'X', 'W', 'S', 'E', 'R', 'M', 'C', 'G', 'K', 'N', 'Y', 'I', 'B', 'T', 'F', 'P', '_', 'A']\n",
      "decrypt progress 11000, score -10785.157871025745, key ['V', 'L', 'Z', 'O', 'D', 'Q', 'J', 'H', 'U', 'X', 'W', 'S', 'E', 'R', 'M', 'C', 'G', 'K', 'N', 'Y', 'I', 'B', 'T', 'F', 'P', '_', 'A']\n",
      "decrypt progress 12000, score -10785.157871025745, key ['V', 'L', 'Z', 'O', 'D', 'Q', 'J', 'H', 'U', 'X', 'W', 'S', 'E', 'R', 'M', 'C', 'G', 'K', 'N', 'Y', 'I', 'B', 'T', 'F', 'P', '_', 'A']\n",
      "decrypt progress 13000, score -10785.157871025745, key ['V', 'L', 'Z', 'O', 'D', 'Q', 'J', 'H', 'U', 'X', 'W', 'S', 'E', 'R', 'M', 'C', 'G', 'K', 'N', 'Y', 'I', 'B', 'T', 'F', 'P', '_', 'A']\n",
      "decrypt progress 14000, score -10785.157871025745, key ['V', 'L', 'Z', 'O', 'D', 'Q', 'J', 'H', 'U', 'X', 'W', 'S', 'E', 'R', 'M', 'C', 'G', 'K', 'N', 'Y', 'I', 'B', 'T', 'F', 'P', '_', 'A']\n",
      "decrypt progress 15000, score -10785.157871025745, key ['V', 'L', 'Z', 'O', 'D', 'Q', 'J', 'H', 'U', 'X', 'W', 'S', 'E', 'R', 'M', 'C', 'G', 'K', 'N', 'Y', 'I', 'B', 'T', 'F', 'P', '_', 'A']\n",
      "decrypt progress 16000, score -10785.157871025745, key ['V', 'L', 'Z', 'O', 'D', 'Q', 'J', 'H', 'U', 'X', 'W', 'S', 'E', 'R', 'M', 'C', 'G', 'K', 'N', 'Y', 'I', 'B', 'T', 'F', 'P', '_', 'A']\n",
      "decrypt progress 17000, score -10785.157871025745, key ['V', 'L', 'Z', 'O', 'D', 'Q', 'J', 'H', 'U', 'X', 'W', 'S', 'E', 'R', 'M', 'C', 'G', 'K', 'N', 'Y', 'I', 'B', 'T', 'F', 'P', '_', 'A']\n",
      "decrypt progress 18000, score -10785.157871025745, key ['V', 'L', 'Z', 'O', 'D', 'Q', 'J', 'H', 'U', 'X', 'W', 'S', 'E', 'R', 'M', 'C', 'G', 'K', 'N', 'Y', 'I', 'B', 'T', 'F', 'P', '_', 'A']\n",
      "decrypt progress 19000, score -10785.157871025745, key ['V', 'L', 'Z', 'O', 'D', 'Q', 'J', 'H', 'U', 'X', 'W', 'S', 'E', 'R', 'M', 'C', 'G', 'K', 'N', 'Y', 'I', 'B', 'T', 'F', 'P', '_', 'A']\n",
      "decrypt: _VOZEM_DO_NEHO_A_ZAS_MNE_BEZI_DO_CESTY__ZACHVELA_SE_TAK_KUDY_VPRAVO_NEBO_VLEVO_TEDY_JE_KONEC_PTAL_SE_TISE_POKYVLA_HLAVOU_TEDY_JE_KONEC_OTEVREL_DVIRKA_VYSKOCIL_Z_VOZU_A_POSTAVIL_SE_PRED_KOLA_JED_REKL_CHRAPTIVE_POJEDES_PRESE_MNE_UJELA_S_VOZEM_DVA_KROKY_ZPET_POJD_MUSIME_DAL_DOVEZU_TE_ASPON_BLIZ_K_HRANICIM_KAM_CHCES_ZPATKY_SKRIPEL_ZUBY_ZPATKY_S_TEBOU_SE_MNOU_NENI_ANI_DOPREDU_ANI_ZPATKY_COPAK_MI_NEROZUMIS_MUSIM_TO_UDELAT_ABYS_VIDEL_ABY_BYLO_JISTO_ZE_JSEM_TE_MELA_RADA_MYSLIS_ZE_BYCH_MOHLA_JESTE_JEDNOU_SLYSET_COS_MI_REKL_ZPATKY_NEMUZES_BUD_BYS_MUSEL_VYDAT_TO_CO_NECHCES_A_NESMIS_NEBO_BY_TE_ODVEZLI_A_JA__SPUSTILA_RUCE_DO_KLINA_VIDIS_I_NA_TO_JSEM_MYSLELA_ZE_BYCH_SLA_S_TEBOU_DOPREDU_DOVEDLA_BYCH_TO_JISTE_ALE__TY_JSI_TAM_NEKDE_ZASNOUBEN_JDI_K_NI_HLED_NIKDY_ME_NENAPADLO_PTAT_SE_TE_NA_TO_KDYZ_JE_CLOVEK_PRINCEZNA_MYSLI_SI_ZE_JE_NA_SVETE_SAM_MAS_JI_RAD_POHLEDL_NA_NI_UTRYZNENYMA_OCIMA_PRECE_JEN_NEDOVEDL_ZAPRIT__TAK_VIDIS_VYDECHLA_TY_NEUMIS_ANI_LHAT_TY_MILY_ALE_POCHOP_KDYZ_JSEM_SI_TO_PAK\n"
     ]
    }
   ],
   "source": [
    "decrypted_key = break_encryption(text, krakatit_matrix, 20000)\n",
    "print(f\"decrypt: {decrypt(decrypted_key, text)}\")"
   ]
  },
  {
   "cell_type": "markdown",
   "id": "adfd6ca5-3358-47b7-82e1-5459787c22c2",
   "metadata": {},
   "source": [
    "<p>Porovnání s originální dešifrací</p>"
   ]
  },
  {
   "cell_type": "code",
   "execution_count": null,
   "id": "2f1206f8-48e2-4ec5-a258-bda43804f53f",
   "metadata": {},
   "outputs": [
    {
     "name": "stdout",
     "output_type": "stream",
     "text": [
      "orig : _VOZEM_DO_NEHO_A_ZAS_MNE_BEZI_DO_CESTY__ZACHVELA_SE_TAK_KUDY_VPRAVO_NEBO_VLEVO_TEDY_JE_KONEC_PTAL_SE_TISE_POKYVLA_HLAVOU_TEDY_JE_KONEC_OTEVREL_DVIRKA_VYSKOCIL_Z_VOZU_A_POSTAVIL_SE_PRED_KOLA_JED_REKL_CHRAPTIVE_POJEDES_PRESE_MNE_UJELA_S_VOZEM_DVA_KROKY_ZPET_POJD_MUSIME_DAL_DOVEZU_TE_ASPON_BLIZ_K_HRANICIM_KAM_CHCES_ZPATKY_SKRIPEL_ZUBY_ZPATKY_S_TEBOU_SE_MNOU_NENI_ANI_DOPREDU_ANI_ZPATKY_COPAK_MI_NEROZUMIS_MUSIM_TO_UDELAT_ABYS_VIDEL_ABY_BYLO_JISTO_ZE_JSEM_TE_MELA_RADA_MYSLIS_ZE_BYCH_MOHLA_JESTE_JEDNOU_SLYSET_COS_MI_REKL_ZPATKY_NEMUZES_BUD_BYS_MUSEL_VYDAT_TO_CO_NECHCES_A_NESMIS_NEBO_BY_TE_ODVEZLI_A_JA__SPUSTILA_RUCE_DO_KLINA_VIDIS_I_NA_TO_JSEM_MYSLELA_ZE_BYCH_SLA_S_TEBOU_DOPREDU_DOVEDLA_BYCH_TO_JISTE_ALE__TY_JSI_TAM_NEKDE_ZASNOUBEN_JDI_K_NI_HLED_NIKDY_ME_NENAPADLO_PTAT_SE_TE_NA_TO_KDYZ_JE_CLOVEK_PRINCEZNA_MYSLI_SI_ZE_JE_NA_SVETE_SAM_MAS_JI_RAD_POHLEDL_NA_NI_UTRYZNENYMA_OCIMA_PRECE_JEN_NEDOVEDL_ZAPRIT__TAK_VIDIS_VYDECHLA_TY_NEUMIS_ANI_LHAT_TY_MILY_ALE_POCHOP_KDYZ_JSEM_SI_TO_PAK\n"
     ]
    }
   ],
   "source": [
    "orig = decrypt(\"VLZODTQHUXWSERMCFKNYIBJGP_A\", text)\n",
    "print(f\"orig : {orig}\")"
   ]
  },
  {
   "cell_type": "markdown",
   "id": "772cd9af-a9a8-4335-bfe9-85dbdd6a8cc3",
   "metadata": {},
   "source": [
    "Log klíčů a věrohodnost"
   ]
  },
  {
   "cell_type": "code",
   "execution_count": null,
   "id": "8779e08b-2c20-4bc0-8d5a-e9ccc9ae7528",
   "metadata": {},
   "outputs": [
    {
     "name": "stdout",
     "output_type": "stream",
     "text": [
      "['V', 'L', 'Z', 'O', 'D', 'Q', 'J', 'H', 'U', 'X', 'W', 'S', 'E', 'R', 'M', 'C', 'G', 'K', 'N', 'Y', 'I', 'B', 'T', 'F', 'P', '_', 'A']\n",
      "['V', 'L', 'Z', 'O', 'D', 'T', 'Q', 'H', 'U', 'X', 'W', 'S', 'E', 'R', 'M', 'C', 'F', 'K', 'N', 'Y', 'I', 'B', 'J', 'G', 'P', '_', 'A']\n",
      "-10867.968549477626\n"
     ]
    }
   ],
   "source": [
    "print(decrypted_key)\n",
    "print(list(\"VLZODTQHUXWSERMCFKNYIBJGP_A\"))\n",
    "print(plausability(plain_text, krakatit_matrix))"
   ]
  },
  {
   "cell_type": "markdown",
   "id": "09910b36-4745-48c6-b7eb-0e88af635155",
   "metadata": {},
   "source": [
    "<p>Spočítání a log skóre pravdivosti</p>"
   ]
  },
  {
   "cell_type": "code",
   "execution_count": null,
   "id": "a7aa403a-3dd5-4741-835f-ead3c38d5c52",
   "metadata": {},
   "outputs": [
    {
     "name": "stdout",
     "output_type": "stream",
     "text": [
      "final score : 1.0\n"
     ]
    }
   ],
   "source": [
    "correctness = text_correctness(orig, decrypt(decrypted_key, text))\n",
    "print(f\"final score : {correctness}\")"
   ]
  }
 ],
 "metadata": {
  "kernelspec": {
   "display_name": "Python 3 (ipykernel)",
   "language": "python",
   "name": "python3"
  },
  "language_info": {
   "codemirror_mode": {
    "name": "ipython",
    "version": 3
   },
   "file_extension": ".py",
   "mimetype": "text/x-python",
   "name": "python",
   "nbconvert_exporter": "python",
   "pygments_lexer": "ipython3",
   "version": "3.10.12"
  }
 },
 "nbformat": 4,
 "nbformat_minor": 5
}
