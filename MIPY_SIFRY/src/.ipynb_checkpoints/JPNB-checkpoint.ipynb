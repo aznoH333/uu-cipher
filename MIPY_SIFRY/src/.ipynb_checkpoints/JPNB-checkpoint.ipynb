{
 "cells": [
  {
   "cell_type": "markdown",
   "id": "518f0756-32e4-4df3-a24b-ad2879f81294",
   "metadata": {},
   "source": [
    "<h1>Vývoj Python knihovny pro šifrování, dešifrování a kryptoanalýzu \n",
    "substituční šifry</h1>"
   ]
  },
  {
   "cell_type": "markdown",
   "id": "a849c95f-1ffb-461f-b670-4de0f7858d85",
   "metadata": {},
   "source": [
    "<h2>Obsah Jupyter Notebook</h2>"
   ]
  },
  {
   "cell_type": "markdown",
   "id": "25d9b4cb-2c8f-4d22-92e1-667c68eaedac",
   "metadata": {},
   "source": [
    "<ol>\n",
    "    <li>Demonstrace šifrovací/dešifrovací funkčnosti</li>\n",
    "    <li>Demonstrace teoretické bigramové matice z vybraného textu</li>\n",
    "    <li>Demonstrace prolomení šifry (kryptoanalýza)</li>\n",
    "</ol>"
   ]
  },
  {
   "cell_type": "markdown",
   "id": "fe1635c1-b2ac-4cfa-ba39-7246480147cb",
   "metadata": {},
   "source": [
    "<h3>1. Demonstrace šifrovací/dešifrovací funkčnosti</h3>"
   ]
  },
  {
   "cell_type": "markdown",
   "id": "f7cab223-90b1-470e-bd11-c213ef6b2db3",
   "metadata": {},
   "source": [
    "<p>Import potřebných funkcí</p>"
   ]
  },
  {
   "cell_type": "code",
   "execution_count": 1,
   "id": "6f3337c6-022f-497b-a9d5-2b876ecff518",
   "metadata": {},
   "outputs": [],
   "source": [
    "from cipher.cipher_util import generate_random_key, sanitize_text, text_correctness\n",
    "from cipher.substitute_cipher import decrypt, encrypt"
   ]
  },
  {
   "cell_type": "markdown",
   "id": "16ba67d2-40ec-406d-9aa4-8dbc4fa25e15",
   "metadata": {},
   "source": [
    "<p>Vytvoření potřebných proměnných</p>"
   ]
  },
  {
   "cell_type": "code",
   "execution_count": 2,
   "id": "338e0a40-4866-499e-ba9e-f711e5fe735a",
   "metadata": {},
   "outputs": [],
   "source": [
    "plain_text = sanitize_text(\"The quick brown fox jumps over the lazy dog\")\n",
    "key = generate_random_key()\n",
    "key_str = \"\".join(key)"
   ]
  },
  {
   "cell_type": "markdown",
   "id": "d083e5fb-71f1-4b16-a7c8-95cfe735373f",
   "metadata": {},
   "source": [
    "<h4>Demo zašifrování</h4>"
   ]
  },
  {
   "cell_type": "code",
   "execution_count": 3,
   "id": "03619a90-814e-4db4-8572-85f9967b7b53",
   "metadata": {},
   "outputs": [
    {
     "name": "stdout",
     "output_type": "stream",
     "text": [
      "Original text : plain_text\n",
      "Cypher key = TSUPJBF_MHRICXNGQOAVWYEKLDZ\n",
      "Encrypted text : V_JZQWMURZSONEXZBNKZHWCGAZNYJOZV_JZITDLZPNF\n"
     ]
    }
   ],
   "source": [
    "print(f\"Original text : plain_text\")\n",
    "print(f\"Cypher key = {key_str}\")\n",
    "\n",
    "encrypted = encrypt(key, plain_text)\n",
    "\n",
    "print(f\"Encrypted text : {encrypted}\")"
   ]
  },
  {
   "cell_type": "markdown",
   "id": "069494fc-2abb-438c-b315-00da76f3a638",
   "metadata": {},
   "source": [
    "<h4>Demo dešifrování</h4>"
   ]
  },
  {
   "cell_type": "code",
   "execution_count": 4,
   "id": "54487003-91e0-44fd-a535-4efbacb61da8",
   "metadata": {},
   "outputs": [
    {
     "name": "stdout",
     "output_type": "stream",
     "text": [
      "Decrypted : THE_QUICK_BROWN_FOX_JUMPS_OVER_THE_LAZY_DOG\n",
      "Score : 1.0\n"
     ]
    }
   ],
   "source": [
    "decrypted = decrypt(key, encrypted)\n",
    "\n",
    "print(f\"Decrypted : {decrypted}\")\n",
    "\n",
    "score = text_correctness(plain_text, decrypted)\n",
    "\n",
    "print(f\"Score : {score}\")"
   ]
  },
  {
   "cell_type": "markdown",
   "id": "87f0bda0-a0c9-4aa0-8726-665416a3b3de",
   "metadata": {},
   "source": [
    "<h3>2. Demonstrace teoretické bigramové matice z vybraného textu</h3>"
   ]
  },
  {
   "cell_type": "markdown",
   "id": "074722b6-d993-4598-a86f-ec7992b5f254",
   "metadata": {},
   "source": [
    "<p>Import potřebných funkcí</p>"
   ]
  },
  {
   "cell_type": "code",
   "execution_count": 5,
   "id": "7c1da54c-dfad-45b5-aa03-da1edafab22f",
   "metadata": {},
   "outputs": [],
   "source": [
    "from cipher.bygram_matrix import create_bygram_matrix, get_bygrams, make_matrix_relative"
   ]
  },
  {
   "cell_type": "markdown",
   "id": "c1980c95-f98b-4e90-ac58-7ca4564b829a",
   "metadata": {},
   "source": [
    "<p>Otevření textového souboru a zpracování pomocí funkce \"create_bygram_matrix\"</p>"
   ]
  },
  {
   "cell_type": "code",
   "execution_count": 6,
   "id": "ef7b4f7b-79a2-4010-93d8-f8cb75deba96",
   "metadata": {},
   "outputs": [],
   "source": [
    "krakatit_file = open(\"../Krakatit.txt\", encoding='cp437', errors='ignore')\n",
    "krakatit_matrix = create_bygram_matrix(get_bygrams(krakatit_file.read()))\n",
    "krakatit_file.close()"
   ]
  },
  {
   "cell_type": "markdown",
   "id": "9769988e-769b-4b0e-8de0-2fb6c6f507ad",
   "metadata": {},
   "source": [
    "<p>Logování matice</p>"
   ]
  },
  {
   "cell_type": "code",
   "execution_count": 7,
   "id": "aac52ca2-aa3b-47bd-b61e-a62afbac893f",
   "metadata": {
    "scrolled": true
   },
   "outputs": [
    {
     "name": "stdout",
     "output_type": "stream",
     "text": [
      "{'AA': 88, 'AB': 628, 'AC': 392, 'AD': 1184, 'AE': 132, 'AF': 90, 'AG': 48, 'AH': 390, 'AI': 499, 'AJ': 616, 'AK': 2497, 'AL': 3457, 'AM': 961, 'AN': 1617, 'AO': 51, 'AP': 575, 'AQ': 1, 'AR': 983, 'AS': 1092, 'AT': 1738, 'AU': 205, 'AV': 1286, 'AW': 1, 'AX': 2, 'AY': 1, 'AZ': 381, 'A_': 10047, 'BA': 318, 'BB': 1, 'BC': 15, 'BD': 34, 'BE': 646, 'BF': 1, 'BG': 1, 'BH': 112, 'BI': 388, 'BJ': 91, 'BK': 36, 'BL': 339, 'BM': 20, 'BN': 127, 'BO': 867, 'BP': 1, 'BQ': 1, 'BR': 458, 'BS': 81, 'BT': 81, 'BU': 430, 'BV': 25, 'BW': 1, 'BX': 1, 'BY': 1532, 'BZ': 22, 'B_': 203, 'CA': 292, 'CB': 1, 'CC': 43, 'CD': 1, 'CE': 1808, 'CF': 1, 'CG': 1, 'CH': 3292, 'CI': 544, 'CJ': 1, 'CK': 283, 'CL': 72, 'CM': 67, 'CN': 35, 'CO': 942, 'CP': 11, 'CQ': 1, 'CR': 6, 'CS': 1, 'CT': 169, 'CU': 38, 'CV': 17, 'CW': 1, 'CX': 1, 'CY': 5, 'CZ': 1, 'C_': 846, 'DA': 833, 'DB': 61, 'DC': 151, 'DD': 79, 'DE': 1227, 'DF': 56, 'DG': 1, 'DH': 46, 'DI': 1287, 'DJ': 82, 'DK': 174, 'DL': 1284, 'DM': 132, 'DN': 733, 'DO': 2100, 'DP': 100, 'DQ': 1, 'DR': 535, 'DS': 227, 'DT': 239, 'DU': 352, 'DV': 565, 'DW': 1, 'DX': 1, 'DY': 944, 'DZ': 18, 'D_': 1317, 'EA': 27, 'EB': 736, 'EC': 866, 'ED': 1668, 'EE': 208, 'EF': 17, 'EG': 77, 'EH': 474, 'EI': 604, 'EJ': 885, 'EK': 1259, 'EL': 1973, 'EM': 2038, 'EN': 2864, 'EO': 110, 'EP': 505, 'EQ': 1, 'ER': 702, 'ES': 1073, 'ET': 867, 'EU': 68, 'EV': 678, 'EW': 2, 'EX': 112, 'EY': 1, 'EZ': 859, 'E_': 11200, 'FA': 77, 'FB': 1, 'FC': 1, 'FD': 1, 'FE': 27, 'FF': 56, 'FG': 1, 'FH': 1, 'FI': 67, 'FJ': 1, 'FK': 4, 'FL': 14, 'FM': 1, 'FN': 6, 'FO': 59, 'FP': 1, 'FQ': 1, 'FR': 35, 'FS': 1, 'FT': 54, 'FU': 21, 'FV': 1, 'FW': 1, 'FX': 1, 'FY': 11, 'FZ': 1, 'F_': 80, 'GA': 33, 'GB': 1, 'GC': 1, 'GD': 1, 'GE': 57, 'GF': 1, 'GG': 1, 'GH': 5, 'GI': 69, 'GJ': 1, 'GK': 1, 'GL': 13, 'GM': 5, 'GN': 24, 'GO': 32, 'GP': 1, 'GQ': 1, 'GR': 76, 'GS': 1, 'GT': 1, 'GU': 18, 'GV': 1, 'GW': 1, 'GX': 1, 'GY': 3, 'GZ': 1, 'G_': 33, 'HA': 659, 'HB': 30, 'HC': 167, 'HD': 22, 'HE': 184, 'HF': 1, 'HG': 1, 'HH': 9, 'HI': 324, 'HJ': 1, 'HK': 24, 'HL': 1698, 'HM': 190, 'HN': 445, 'HO': 2525, 'HP': 1, 'HQ': 1, 'HR': 581, 'HS': 7, 'HT': 250, 'HU': 376, 'HV': 247, 'HW': 1, 'HX': 1, 'HY': 217, 'HZ': 8, 'H_': 1144, 'IA': 143, 'IB': 98, 'IC': 1279, 'ID': 885, 'IE': 1376, 'IF': 13, 'IG': 35, 'IH': 361, 'II': 856, 'IJ': 197, 'IK': 984, 'IL': 3067, 'IM': 1129, 'IN': 2210, 'IO': 91, 'IP': 226, 'IQ': 1, 'IR': 366, 'IS': 1073, 'IT': 2423, 'IU': 79, 'IV': 1099, 'IW': 4, 'IX': 6, 'IY': 1, 'IZ': 409, 'I_': 7579, 'JA': 1211, 'JB': 11, 'JC': 157, 'JD': 245, 'JE': 3105, 'JF': 1, 'JG': 1, 'JH': 17, 'JI': 1356, 'JJ': 5, 'JK': 30, 'JL': 23, 'JM': 206, 'JN': 102, 'JO': 38, 'JP': 10, 'JQ': 1, 'JR': 7, 'JS': 760, 'JT': 146, 'JU': 40, 'JV': 36, 'JW': 1, 'JX': 1, 'JY': 1, 'JZ': 7, 'J_': 861, 'KA': 1796, 'KB': 1, 'KC': 77, 'KD': 822, 'KE': 405, 'KF': 1, 'KG': 1, 'KH': 85, 'KI': 674, 'KJ': 1, 'KK': 26, 'KL': 995, 'KM': 187, 'KN': 384, 'KO': 3742, 'KP': 21, 'KQ': 1, 'KR': 1002, 'KS': 74, 'KT': 406, 'KU': 928, 'KV': 112, 'KW': 1, 'KX': 1, 'KY': 536, 'KZ': 1, 'K_': 3092, 'LA': 3249, 'LB': 98, 'LC': 84, 'LD': 199, 'LE': 3068, 'LF': 4, 'LG': 2, 'LH': 104, 'LI': 2293, 'LJ': 1, 'LK': 312, 'LL': 25, 'LM': 177, 'LN': 516, 'LO': 2079, 'LP': 33, 'LQ': 1, 'LR': 13, 'LS': 90, 'LT': 113, 'LU': 578, 'LV': 43, 'LW': 8, 'LX': 1, 'LY': 460, 'LZ': 176, 'L_': 6341, 'MA': 914, 'MB': 17, 'MC': 70, 'MD': 11, 'ME': 909, 'MF': 1, 'MG': 1, 'MH': 38, 'MI': 1796, 'MJ': 40, 'MK': 141, 'ML': 435, 'MM': 36, 'MN': 699, 'MO': 751, 'MP': 37, 'MQ': 1, 'MR': 310, 'MS': 196, 'MT': 139, 'MU': 1097, 'MV': 29, 'MW': 1, 'MX': 1, 'MY': 290, 'MZ': 1, 'M_': 4151, 'NA': 3433, 'NB': 21, 'NC': 911, 'ND': 99, 'NE': 3878, 'NF': 8, 'NG': 42, 'NH': 236, 'NI': 2559, 'NJ': 261, 'NK': 571, 'NL': 105, 'NM': 719, 'NN': 188, 'NO': 1865, 'NP': 1, 'NQ': 1, 'NR': 44, 'NS': 139, 'NT': 245, 'NU': 700, 'NV': 20, 'NW': 1, 'NX': 1, 'NY': 483, 'NZ': 82, 'N_': 5305, 'OA': 31, 'OB': 897, 'OC': 440, 'OD': 1542, 'OE': 204, 'OF': 43, 'OG': 26, 'OH': 957, 'OI': 715, 'OJ': 503, 'OK': 2100, 'OL': 1129, 'OM': 1133, 'ON': 1337, 'OO': 24, 'OP': 1965, 'OQ': 1, 'OR': 934, 'OS': 1420, 'OT': 868, 'OU': 2838, 'OV': 2495, 'OW': 4, 'OX': 9, 'OY': 2, 'OZ': 1037, 'O_': 8073, 'PA': 1642, 'PB': 6, 'PC': 63, 'PD': 124, 'PE': 1118, 'PF': 3, 'PG': 1, 'PH': 7, 'PI': 1251, 'PJ': 57, 'PK': 70, 'PL': 559, 'PM': 34, 'PN': 108, 'PO': 3422, 'PP': 16, 'PQ': 1, 'PR': 3252, 'PS': 223, 'PT': 347, 'PU': 227, 'PV': 38, 'PW': 1, 'PX': 1, 'PY': 68, 'PZ': 2, 'P_': 1127, 'QA': 1, 'QB': 1, 'QC': 1, 'QD': 1, 'QE': 1, 'QF': 1, 'QG': 1, 'QH': 1, 'QI': 1, 'QJ': 1, 'QK': 1, 'QL': 1, 'QM': 1, 'QN': 1, 'QO': 1, 'QP': 1, 'QQ': 1, 'QR': 1, 'QS': 1, 'QT': 1, 'QU': 4, 'QV': 1, 'QW': 1, 'QX': 1, 'QY': 1, 'QZ': 1, 'Q_': 1, 'RA': 2190, 'RB': 15, 'RC': 178, 'RD': 164, 'RE': 513, 'RF': 2, 'RG': 29, 'RH': 186, 'RI': 1637, 'RJ': 1, 'RK': 258, 'RL': 74, 'RM': 110, 'RN': 520, 'RO': 3852, 'RP': 54, 'RQ': 1, 'RR': 43, 'RS': 499, 'RT': 272, 'RU': 984, 'RV': 254, 'RW': 7, 'RX': 1, 'RY': 357, 'RZ': 114, 'R_': 814, 'SA': 309, 'SB': 16, 'SC': 149, 'SD': 8, 'SE': 3991, 'SF': 9, 'SG': 1, 'SH': 40, 'SI': 1320, 'SJ': 6, 'SK': 1042, 'SL': 1034, 'SM': 550, 'SN': 457, 'SO': 795, 'SP': 411, 'SQ': 1, 'SR': 89, 'SS': 37, 'ST': 3995, 'SU': 214, 'SV': 649, 'SW': 1, 'SX': 1, 'SY': 139, 'SZ': 1, 'S_': 1324, 'TA': 2528, 'TB': 17, 'TC': 110, 'TD': 16, 'TE': 2997, 'TF': 1, 'TG': 1, 'TH': 53, 'TI': 2423, 'TJ': 33, 'TK': 401, 'TL': 640, 'TM': 358, 'TN': 647, 'TO': 3368, 'TP': 21, 'TQ': 1, 'TR': 1018, 'TS': 123, 'TT': 98, 'TU': 985, 'TV': 377, 'TW': 1, 'TX': 1, 'TY': 481, 'TZ': 28, 'T_': 3736, 'UA': 23, 'UB': 255, 'UC': 494, 'UD': 715, 'UE': 207, 'UF': 71, 'UG': 5, 'UH': 280, 'UI': 376, 'UJ': 306, 'UK': 615, 'UL': 466, 'UM': 301, 'UN': 186, 'UO': 7, 'UP': 324, 'UQ': 1, 'UR': 117, 'US': 740, 'UT': 739, 'UU': 8, 'UV': 242, 'UW': 10, 'UX': 1, 'UY': 1, 'UZ': 105, 'U_': 5592, 'VA': 1476, 'VB': 109, 'VC': 276, 'VD': 382, 'VE': 1350, 'VF': 1, 'VG': 1, 'VH': 66, 'VI': 2829, 'VJ': 83, 'VK': 259, 'VL': 460, 'VM': 331, 'VN': 548, 'VO': 914, 'VP': 27, 'VQ': 1, 'VR': 439, 'VS': 142, 'VT': 462, 'VU': 250, 'VV': 17, 'VW': 1, 'VX': 1, 'VY': 1234, 'VZ': 430, 'V_': 2272, 'WA': 18, 'WB': 1, 'WC': 1, 'WD': 1, 'WE': 4, 'WF': 1, 'WG': 1, 'WH': 10, 'WI': 28, 'WJ': 1, 'WK': 2, 'WL': 1, 'WM': 1, 'WN': 2, 'WO': 1, 'WP': 1, 'WQ': 1, 'WR': 1, 'WS': 1, 'WT': 1, 'WU': 2, 'WV': 1, 'WW': 1, 'WX': 1, 'WY': 1, 'WZ': 1, 'W_': 2, 'XA': 2, 'XB': 1, 'XC': 2, 'XD': 1, 'XE': 2, 'XF': 1, 'XG': 1, 'XH': 1, 'XI': 22, 'XJ': 1, 'XK': 1, 'XL': 10, 'XM': 1, 'XN': 1, 'XO': 8, 'XP': 36, 'XQ': 1, 'XR': 1, 'XS': 1, 'XT': 64, 'XU': 1, 'XV': 12, 'XW': 1, 'XX': 30, 'XY': 1, 'XZ': 1, 'X_': 11, 'YA': 8, 'YB': 248, 'YC': 321, 'YD': 197, 'YE': 45, 'YF': 1, 'YG': 3, 'YH': 99, 'YI': 237, 'YJ': 30, 'YK': 151, 'YL': 758, 'YM': 28, 'YN': 162, 'YO': 4, 'YP': 119, 'YQ': 1, 'YR': 54, 'YS': 499, 'YT': 211, 'YU': 3, 'YV': 39, 'YW': 1, 'YX': 1, 'YY': 1, 'YZ': 47, 'Y_': 3553, 'ZA': 1898, 'ZB': 135, 'ZC': 37, 'ZD': 461, 'ZE': 760, 'ZF': 1, 'ZG': 1, 'ZH': 116, 'ZI': 707, 'ZJ': 34, 'ZK': 277, 'ZL': 238, 'ZM': 173, 'ZN': 727, 'ZO': 261, 'ZP': 266, 'ZQ': 1, 'ZR': 148, 'ZS': 84, 'ZT': 220, 'ZU': 231, 'ZV': 327, 'ZW': 1, 'ZX': 1, 'ZY': 48, 'ZZ': 13, 'Z_': 579, '_A': 5763, '_B': 2426, '_C': 2191, '_D': 3684, '_E': 1652, '_F': 136, '_G': 99, '_H': 2124, '_I': 1128, '_J': 5143, '_K': 3849, '_L': 1197, '_M': 3223, '_N': 7270, '_O': 2819, '_P': 9007, '_Q': 2, '_R': 1914, '_S': 8004, '_T': 6312, '_U': 1509, '_V': 5749, '_W': 34, '_X': 40, '_Y': 5, '_Z': 4002, '__': 20789}\n"
     ]
    }
   ],
   "source": [
    "print(krakatit_matrix)"
   ]
  },
  {
   "cell_type": "markdown",
   "id": "ef827935-d7d0-4c3c-baf8-bc608170af02",
   "metadata": {},
   "source": [
    "<h3>3. Demonstrace prolomení šifry (kryptoanalýza)</h3>"
   ]
  },
  {
   "cell_type": "markdown",
   "id": "14648cd8-11c9-4531-982e-322f01bda998",
   "metadata": {},
   "source": [
    "<p>Import potřebných funkcí</p>"
   ]
  },
  {
   "cell_type": "code",
   "execution_count": 8,
   "id": "19361746-94f5-4860-b013-54112a186514",
   "metadata": {},
   "outputs": [],
   "source": [
    "from cipher.bygram_matrix import create_bygram_matrix, get_bygrams, make_matrix_relative, plausability\n",
    "from cipher.cipher_util import text_correctness\n",
    "from cipher.substitute_cipher import break_encryption, decrypt\n"
   ]
  },
  {
   "cell_type": "markdown",
   "id": "20810099-5102-4be2-8bc7-0c3a408d5ffb",
   "metadata": {},
   "source": [
    "<p>Otevření textového souboru a zpracování pomocí funkce \"make_matrix_relative\"</p>"
   ]
  },
  {
   "cell_type": "code",
   "execution_count": 9,
   "id": "48ddc303-f55c-40ec-a682-f5fcbccb3b3f",
   "metadata": {},
   "outputs": [],
   "source": [
    "krakatit_file = open(\"../Krakatit.txt\", encoding='cp437', errors='ignore')\n",
    "krakatit_matrix = make_matrix_relative(create_bygram_matrix(get_bygrams(krakatit_file.read())))\n",
    "krakatit_file.close()"
   ]
  },
  {
   "cell_type": "markdown",
   "id": "3fd59fd2-22b5-4412-9392-14d9ebe5e7b4",
   "metadata": {},
   "source": [
    "<p>Definice plain textu pro referenci</p>"
   ]
  },
  {
   "cell_type": "code",
   "execution_count": 10,
   "id": "197ad120-3bdb-487e-b004-6e1a0a09b64a",
   "metadata": {},
   "outputs": [],
   "source": [
    "plain_text = \"_VOZEM_DO_NEHO_A_ZAS_MNE_BEZI_DO_CESTY__ZACHVELA_SE_TAK_KUDY_VPRAVO_NEBO_VLEVO_TEDY_JE_KONEC_PTAL_SE_TISE_POKYVLA_HLAVOU_TEDY_JE_KONEC_OTEVREL_DVIRKA_VYSKOCIL_Z_VOZU_A_POSTAVIL_SE_PRED_KOLA_JED_REKL_CHRAPTIVE_POJEDES_PRESE_MNE_UJELA_S_VOZEM_DVA_KROKY_ZPET_POJD_MUSIME_DAL_DOVEZU_TE_ASPON_BLIZ_K_HRANICIM_KAM_CHCES_ZPATKY_SKRIPEL_ZUBY_ZPATKY_S_TEBOU_SE_MNOU_NENI_ANI_DOPREDU_ANI_ZPATKY_COPAK_MI_NEROZUMIS_MUSIM_TO_UDELAT_ABYS_VIDEL_ABY_BYLO_JISTO_ZE_JSEM_TE_MELA_RADA_MYSLIS_ZE_BYCH_MOHLA_JESTE_JEDNOU_SLYSET_COS_MI_REKL_ZPATKY_NEMUZES_BUD_BYS_MUSEL_VYDAT_TO_CO_NECHCES_A_NESMIS_NEBO_BY_TE_ODVEZLI_A_JA__SPUSTILA_RUCE_DO_KLINA_VIDIS_I_NA_TO_JSEM_MYSLELA_ZE_BYCH_SLA_S_TEBOU_DOPREDU_DOVEDLA_BYCH_TO_DOVEDLA_BYCH_TO_JISTE_ALE__TY_JSI_TAM_NEKDE_ZASNOUBEN_JDI_K_NI_HLED_NIKDY_ME_NENAPADLO_PTAT_SE_TE_NA_TO_KDYZ_JE_CLOVEK_PRINCEZNA_MYSLI_SI_ZE_JE_NA_SVETE_SAM_MAS_JI_RAD_POHLEDL_NA_NI_UTRYZNENYMA_OCIMA_PRECE_JEN_NEDOVEDL_ZAPRIT__TAK_VIDIS_VYDECHLA_TY_NEUMIS_ANI_LHAT_TY_MILY_ALE_POCHOP_KDYZ_JSEM_SI_TO_PAK\""
   ]
  },
  {
   "cell_type": "markdown",
   "id": "a2184237-aaee-4f2e-9ea0-5c63044e498b",
   "metadata": {},
   "source": [
    "<p>Definice šifrovaného textu k dešifrování</p>"
   ]
  },
  {
   "cell_type": "code",
   "execution_count": 11,
   "id": "7fbe83eb-d2f0-4ec6-9d10-3c33db9ad0b0",
   "metadata": {},
   "outputs": [],
   "source": [
    "text = \"ABM_DEAOMARDHMAVA_VNAERDALD_UAOMAZDNYPAA_VZHBDSVANDAYVWAWIOPABCKVBMARDLMABSDBMAYDOPAXDAWMRDZACYVSANDAYUNDACMWPBSVAHSVBMIAYDOPAXDAWMRDZAMYDBKDSAOBUKWVABPNWMZUSA_ABM_IAVACMNYVBUSANDACKDOAWMSVAXDOAKDWSAZHKVCYUBDACMXDODNACKDNDAERDAIXDSVANABM_DEAOBVAWKMWPA_CDYACMXOAEINUEDAOVSAOMBD_IAYDAVNCMRALSU_AWAHKVRUZUEAWVEAZHZDNA_CVYWPANWKUCDSA_ILPA_CVYWPANAYDLMIANDAERMIARDRUAVRUAOMCKDOIAVRUA_CVYWPAZMCVWAEUARDKM_IEUNAEINUEAYMAIODSVYAVLPNABUODSAVLPALPSMAXUNYMA_DAXNDEAYDAEDSVAKVOVAEPNSUNA_DALPZHAEMHSVAXDNYDAXDORMIANSPNDYAZMNAEUAKDWSA_CVYWPARDEI_DNALIOALPNAEINDSABPOVYAYMAZMARDZHZDNAVARDNEUNARDLMALPAYDAMOBD_SUAVAXVAANCINYUSVAKIZDAOMAWSURVABUOUNAUARVAYMAXNDEAEPNSDSVA_DALPZHANSVANAYDLMIAOMCKDOIAOMBDOSVALPZHAYMAXUNYDAVSDAAYPAXNUAYVEARDWODA_VNRMILDRAXOUAWARUAHSDOARUWOPAEDARDRVCVOSMACYVYANDAYDARVAYMAWOP_AXDAZSMBDWACKURZD_RVAEPNSUANUA_DAXDARVANBDYDANVEAEVNAXUAKVOACMHSDOSARVARUAIYKP_RDRPEVAMZUEVACKDZDAXDRARDOMBDOSA_VCKUYAAYVWABUOUNABPODZHSVAYPARDIEUNAVRUASHVYAYPAEUSPAVSDACMZHMCAWOP_AXNDEANUAYMACVW\""
   ]
  },
  {
   "cell_type": "markdown",
   "id": "d1165e65-5c48-4b4b-9e2c-ad12e96b4af8",
   "metadata": {},
   "source": [
    "<p>Prolomení šifry a dešifrace</p>"
   ]
  },
  {
   "cell_type": "code",
   "execution_count": 12,
   "id": "41fa379d-f611-4e56-b422-e2f88bf9b86f",
   "metadata": {},
   "outputs": [
    {
     "name": "stdout",
     "output_type": "stream",
     "text": [
      "decrypt progress 0, score -14038.51179741808, key ['_', 'O', 'M', 'Y', 'X', 'T', 'L', 'H', 'S', 'P', 'K', 'J', 'Z', 'W', 'B', 'E', 'F', 'C', 'G', 'V', 'R', 'I', 'Q', 'A', 'U', 'N', 'D']\n",
      "decrypt progress 1000, score -10923.618262061987, key ['V', 'B', 'K', 'O', 'D', 'L', 'T', 'C', 'U', 'X', 'W', 'M', 'S', 'R', 'P', 'Z', 'F', 'H', 'N', 'Y', 'I', 'E', 'Q', 'J', 'G', '_', 'A']\n",
      "decrypt progress 2000, score -10923.618262061987, key ['V', 'B', 'K', 'O', 'D', 'L', 'T', 'C', 'U', 'X', 'W', 'M', 'S', 'R', 'P', 'Z', 'F', 'H', 'N', 'Y', 'I', 'E', 'Q', 'J', 'G', '_', 'A']\n",
      "decrypt progress 3000, score -10854.133587744847, key ['V', 'Z', 'K', 'N', 'D', 'G', 'J', 'I', 'M', 'L', 'E', 'S', 'W', 'O', 'U', '_', 'T', 'C', 'B', 'R', 'P', 'Y', 'Q', 'F', 'H', 'X', 'A']\n",
      "decrypt progress 4000, score -10770.996575058569, key ['V', 'Z', 'K', 'O', 'D', 'J', 'Q', 'L', 'U', 'X', 'W', 'S', 'B', 'R', 'M', '_', 'T', 'C', 'N', 'Y', 'P', 'E', 'G', 'F', 'H', 'I', 'A']\n",
      "decrypt progress 5000, score -10770.996575058569, key ['V', 'Z', 'K', 'O', 'D', 'J', 'Q', 'L', 'U', 'X', 'W', 'S', 'B', 'R', 'M', '_', 'T', 'C', 'N', 'Y', 'P', 'E', 'G', 'F', 'H', 'I', 'A']\n",
      "decrypt progress 6000, score -10770.996575058569, key ['V', 'Z', 'K', 'O', 'D', 'J', 'Q', 'L', 'U', 'X', 'W', 'S', 'B', 'R', 'M', '_', 'T', 'C', 'N', 'Y', 'P', 'E', 'G', 'F', 'H', 'I', 'A']\n",
      "decrypt progress 7000, score -10734.627542415248, key ['V', 'L', 'B', '_', 'D', 'Q', 'J', 'H', 'U', 'X', 'W', 'S', 'O', 'R', 'M', 'C', 'T', 'K', 'N', 'Y', 'I', 'E', 'G', 'F', 'P', 'Z', 'A']\n",
      "decrypt progress 8000, score -10718.98094459214, key ['V', 'L', 'B', 'O', 'D', 'Q', 'J', 'H', 'U', 'X', 'W', 'S', 'Z', 'R', 'M', 'C', 'T', 'K', 'N', 'Y', 'I', 'E', 'G', 'F', 'P', '_', 'A']\n",
      "decrypt progress 9000, score -10718.98094459214, key ['V', 'L', 'B', 'O', 'D', 'Q', 'J', 'H', 'U', 'X', 'W', 'S', 'Z', 'R', 'M', 'C', 'T', 'K', 'N', 'Y', 'I', 'E', 'G', 'F', 'P', '_', 'A']\n",
      "decrypt progress 10000, score -10718.98094459214, key ['V', 'L', 'B', 'O', 'D', 'Q', 'J', 'H', 'U', 'X', 'W', 'S', 'Z', 'R', 'M', 'C', 'T', 'K', 'N', 'Y', 'I', 'E', 'G', 'F', 'P', '_', 'A']\n",
      "decrypt progress 11000, score -10713.625056821906, key ['V', 'L', 'Z', 'O', 'D', 'Q', 'G', 'H', 'M', 'X', 'W', 'S', 'E', 'R', 'U', 'C', 'T', 'K', 'N', 'Y', 'I', 'B', 'F', 'J', 'P', '_', 'A']\n",
      "decrypt progress 12000, score -10713.625056821906, key ['V', 'L', 'Z', 'O', 'D', 'Q', 'G', 'H', 'M', 'X', 'W', 'S', 'E', 'R', 'U', 'C', 'T', 'K', 'N', 'Y', 'I', 'B', 'F', 'J', 'P', '_', 'A']\n",
      "decrypt progress 13000, score -10713.625056821906, key ['V', 'L', 'Z', 'O', 'D', 'Q', 'G', 'H', 'M', 'X', 'W', 'S', 'E', 'R', 'U', 'C', 'T', 'K', 'N', 'Y', 'I', 'B', 'F', 'J', 'P', '_', 'A']\n",
      "decrypt progress 14000, score -10713.625056821906, key ['V', 'L', 'Z', 'O', 'D', 'Q', 'G', 'H', 'M', 'X', 'W', 'S', 'E', 'R', 'U', 'C', 'T', 'K', 'N', 'Y', 'I', 'B', 'F', 'J', 'P', '_', 'A']\n",
      "decrypt progress 15000, score -10713.625056821906, key ['V', 'L', 'Z', 'O', 'D', 'Q', 'G', 'H', 'M', 'X', 'W', 'S', 'E', 'R', 'U', 'C', 'T', 'K', 'N', 'Y', 'I', 'B', 'F', 'J', 'P', '_', 'A']\n",
      "decrypt progress 16000, score -10713.625056821906, key ['V', 'L', 'Z', 'O', 'D', 'Q', 'G', 'H', 'M', 'X', 'W', 'S', 'E', 'R', 'U', 'C', 'T', 'K', 'N', 'Y', 'I', 'B', 'F', 'J', 'P', '_', 'A']\n",
      "decrypt progress 17000, score -10713.625056821906, key ['V', 'L', 'Z', 'O', 'D', 'Q', 'G', 'H', 'M', 'X', 'W', 'S', 'E', 'R', 'U', 'C', 'T', 'K', 'N', 'Y', 'I', 'B', 'F', 'J', 'P', '_', 'A']\n",
      "decrypt progress 18000, score -10701.003072560323, key ['V', 'L', 'Z', 'B', 'D', 'F', 'G', 'H', 'U', 'R', 'O', 'S', 'E', 'Y', 'M', 'C', 'J', 'K', 'X', 'N', 'I', 'W', 'T', 'Q', 'P', '_', 'A']\n",
      "decrypt progress 19000, score -10701.003072560323, key ['V', 'L', 'Z', 'B', 'D', 'F', 'G', 'H', 'U', 'R', 'O', 'S', 'E', 'Y', 'M', 'C', 'J', 'K', 'X', 'N', 'I', 'W', 'T', 'Q', 'P', '_', 'A']\n",
      "decrypt: _DOZEM_KO_JEHO_A_ZAT_MJE_BEZI_KO_CETNY__ZACHDELA_TE_NAV_VUKY_DPRADO_JEBO_DLEDO_NEKY_SE_VOJEC_PNAL_TE_NITE_POVYDLA_HLADOU_NEKY_SE_VOJEC_ONEDREL_KDIRVA_DYTVOCIL_Z_DOZU_A_POTNADIL_TE_PREK_VOLA_SEK_REVL_CHRAPNIDE_POSEKET_PRETE_MJE_USELA_T_DOZEM_KDA_VROVY_ZPEN_POSK_MUTIME_KAL_KODEZU_NE_ATPOJ_BLIZ_V_HRAJICIM_VAM_CHCET_ZPANVY_TVRIPEL_ZUBY_ZPANVY_T_NEBOU_TE_MJOU_JEJI_AJI_KOPREKU_AJI_ZPANVY_COPAV_MI_JEROZUMIT_MUTIM_NO_UKELAN_ABYT_DIKEL_ABY_BYLO_SITNO_ZE_STEM_NE_MELA_RAKA_MYTLIT_ZE_BYCH_MOHLA_SETNE_SEKJOU_TLYTEN_COT_MI_REVL_ZPANVY_JEMUZET_BUK_BYT_MUTEL_DYKAN_NO_CO_JECHCET_A_JETMIT_JEBO_BY_NE_OKDEZLI_A_SA__TPUTNILA_RUCE_KO_VLIJA_DIKIT_I_JA_NO_STEM_MYTLELA_ZE_BYCH_TLA_T_NEBOU_KOPREKU_KODEKLA_BYCH_NO_SITNE_ALE__NY_STI_NAM_JEVKE_ZATJOUBEJ_SKI_V_JI_HLEK_JIVKY_ME_JEJAPAKLO_PNAN_TE_NE_JA_NO_VKYZ_SE_CLODEV_PRIJCEZJA_MYTLI_TI_ZE_SE_JA_TDENE_TAM_MAT_SI_RAK_POHLEKL_JA_JI_UNRYZJEJYMA_OCIMA_PRECE_SEJ_JEKODEKL_ZAPRIN__NAV_DIKIT_DYKECHLA_NY_JEUMIT_AJI_LHAN_NY_MILY_ALE_POCHOP_VKYZ_STEM_TI_NO_PAV\n"
     ]
    }
   ],
   "source": [
    "decrypted_key = break_encryption(text, krakatit_matrix, 20000)\n",
    "print(f\"decrypt: {decrypt(decrypted_key, text)}\")"
   ]
  },
  {
   "cell_type": "markdown",
   "id": "adfd6ca5-3358-47b7-82e1-5459787c22c2",
   "metadata": {},
   "source": [
    "<p>Porovnání s originální dešifrací</p>"
   ]
  },
  {
   "cell_type": "code",
   "execution_count": 13,
   "id": "2f1206f8-48e2-4ec5-a258-bda43804f53f",
   "metadata": {},
   "outputs": [
    {
     "name": "stdout",
     "output_type": "stream",
     "text": [
      "orig : _VOZEM_DO_NEHO_A_ZAS_MNE_BEZI_DO_CESTY__ZACHVELA_SE_TAK_KUDY_VPRAVO_NEBO_VLEVO_TEDY_JE_KONEC_PTAL_SE_TISE_POKYVLA_HLAVOU_TEDY_JE_KONEC_OTEVREL_DVIRKA_VYSKOCIL_Z_VOZU_A_POSTAVIL_SE_PRED_KOLA_JED_REKL_CHRAPTIVE_POJEDES_PRESE_MNE_UJELA_S_VOZEM_DVA_KROKY_ZPET_POJD_MUSIME_DAL_DOVEZU_TE_ASPON_BLIZ_K_HRANICIM_KAM_CHCES_ZPATKY_SKRIPEL_ZUBY_ZPATKY_S_TEBOU_SE_MNOU_NENI_ANI_DOPREDU_ANI_ZPATKY_COPAK_MI_NEROZUMIS_MUSIM_TO_UDELAT_ABYS_VIDEL_ABY_BYLO_JISTO_ZE_JSEM_TE_MELA_RADA_MYSLIS_ZE_BYCH_MOHLA_JESTE_JEDNOU_SLYSET_COS_MI_REKL_ZPATKY_NEMUZES_BUD_BYS_MUSEL_VYDAT_TO_CO_NECHCES_A_NESMIS_NEBO_BY_TE_ODVEZLI_A_JA__SPUSTILA_RUCE_DO_KLINA_VIDIS_I_NA_TO_JSEM_MYSLELA_ZE_BYCH_SLA_S_TEBOU_DOPREDU_DOVEDLA_BYCH_TO_JISTE_ALE__TY_JSI_TAM_NEKDE_ZASNOUBEN_JDI_K_NI_HLED_NIKDY_ME_NENAPADLO_PTAT_SE_TE_NA_TO_KDYZ_JE_CLOVEK_PRINCEZNA_MYSLI_SI_ZE_JE_NA_SVETE_SAM_MAS_JI_RAD_POHLEDL_NA_NI_UTRYZNENYMA_OCIMA_PRECE_JEN_NEDOVEDL_ZAPRIT__TAK_VIDIS_VYDECHLA_TY_NEUMIS_ANI_LHAT_TY_MILY_ALE_POCHOP_KDYZ_JSEM_SI_TO_PAK\n"
     ]
    }
   ],
   "source": [
    "orig = decrypt(\"VLZODTQHUXWSERMCFKNYIBJGP_A\", text)\n",
    "print(f\"orig : {orig}\")"
   ]
  },
  {
   "cell_type": "markdown",
   "id": "772cd9af-a9a8-4335-bfe9-85dbdd6a8cc3",
   "metadata": {},
   "source": [
    "Log klíčů a věrohodnost"
   ]
  },
  {
   "cell_type": "code",
   "execution_count": 14,
   "id": "8779e08b-2c20-4bc0-8d5a-e9ccc9ae7528",
   "metadata": {},
   "outputs": [
    {
     "name": "stdout",
     "output_type": "stream",
     "text": [
      "['V', 'L', 'Z', 'B', 'D', 'F', 'G', 'H', 'U', 'R', 'O', 'S', 'E', 'Y', 'M', 'C', 'J', 'K', 'X', 'N', 'I', 'W', 'T', 'Q', 'P', '_', 'A']\n",
      "['V', 'L', 'Z', 'O', 'D', 'T', 'Q', 'H', 'U', 'X', 'W', 'S', 'E', 'R', 'M', 'C', 'F', 'K', 'N', 'Y', 'I', 'B', 'J', 'G', 'P', '_', 'A']\n",
      "-10732.445481767178\n"
     ]
    }
   ],
   "source": [
    "print(decrypted_key)\n",
    "print(list(\"VLZODTQHUXWSERMCFKNYIBJGP_A\"))\n",
    "print(plausability(plain_text, krakatit_matrix))"
   ]
  },
  {
   "cell_type": "markdown",
   "id": "09910b36-4745-48c6-b7eb-0e88af635155",
   "metadata": {},
   "source": [
    "<p>Spočítání a log skóre pravdivosti</p>"
   ]
  },
  {
   "cell_type": "code",
   "execution_count": 15,
   "id": "a7aa403a-3dd5-4741-835f-ead3c38d5c52",
   "metadata": {},
   "outputs": [
    {
     "name": "stdout",
     "output_type": "stream",
     "text": [
      "final score : 0.7408536585365854\n"
     ]
    }
   ],
   "source": [
    "correctness = text_correctness(orig, decrypt(decrypted_key, text))\n",
    "print(f\"final score : {correctness}\")"
   ]
  }
 ],
 "metadata": {
  "kernelspec": {
   "display_name": "Python [conda env:base] *",
   "language": "python",
   "name": "conda-base-py"
  },
  "language_info": {
   "codemirror_mode": {
    "name": "ipython",
    "version": 3
   },
   "file_extension": ".py",
   "mimetype": "text/x-python",
   "name": "python",
   "nbconvert_exporter": "python",
   "pygments_lexer": "ipython3",
   "version": "3.12.7"
  }
 },
 "nbformat": 4,
 "nbformat_minor": 5
}
